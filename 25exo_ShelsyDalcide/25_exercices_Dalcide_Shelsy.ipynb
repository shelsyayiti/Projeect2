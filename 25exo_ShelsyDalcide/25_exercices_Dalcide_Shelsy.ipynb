{
 "cells": [
  {
   "cell_type": "markdown",
   "metadata": {},
   "source": [
    "# COURS no 1"
   ]
  },
  {
   "cell_type": "markdown",
   "metadata": {},
   "source": [
    "# 1. Affectez les variables temps et distance"
   ]
  },
  {
   "cell_type": "code",
   "execution_count": 9,
   "metadata": {},
   "outputs": [
    {
     "name": "stdout",
     "output_type": "stream",
     "text": [
      "La valeur de la vitesse est : 0.3498477157360406\n"
     ]
    }
   ],
   "source": [
    "## Affectez les variables temps et distance par les valeurs 6.892 et 19.7. Calculez et afﬁchez la valeur de la vitesse.\n",
    "temps = (6.892)\n",
    "distance = (19.7)\n",
    "vitesse = temps/distance\n",
    "print('La valeur de la vitesse est :',vitesse)"
   ]
  },
  {
   "cell_type": "markdown",
   "metadata": {},
   "source": [
    "# 2. Saisir un nom et un âge"
   ]
  },
  {
   "cell_type": "code",
   "execution_count": 13,
   "metadata": {},
   "outputs": [
    {
     "name": "stdout",
     "output_type": "stream",
     "text": [
      "Entrer votre nom :Shelsy Dalcide\n",
      "Entrer votre age :22\n",
      "Le nom est  Shelsy Dalcide\n",
      "L'age est  22 ans\n"
     ]
    }
   ],
   "source": [
    "nom = input(\"Entrer votre nom :\")\n",
    "Age = input(\"Entrer votre age :\")\n",
    "print(\"Le nom est \",nom)\n",
    "print(\"L'age est \",Age, \"ans\")"
   ]
  },
  {
   "cell_type": "markdown",
   "metadata": {},
   "source": [
    "# COURS no 2"
   ]
  },
  {
   "cell_type": "markdown",
   "metadata": {},
   "source": [
    "# 3 Saisissez un ﬂottant"
   ]
  },
  {
   "cell_type": "code",
   "execution_count": 1,
   "metadata": {},
   "outputs": [
    {
     "name": "stdout",
     "output_type": "stream",
     "text": [
      "Entrer la valeur de a est : 1\n",
      "<class 'float'>\n"
     ]
    }
   ],
   "source": [
    "#Saisissezunﬂottant.S’ilestpositifounul,afﬁchezsaracine,sinonafﬁchezunmessage d’erreur.\n",
    "a = float(input(\"Entrer la valeur de a est : \"))\n",
    "if a>=0 :\n",
    "    print(type(a))\n",
    "else:\n",
    "    print(\"Attention y a erreur\")"
   ]
  },
  {
   "cell_type": "markdown",
   "metadata": {},
   "source": [
    "# 4.  L’ordre lexicographique estcelui du dictionnaire"
   ]
  },
  {
   "cell_type": "code",
   "execution_count": 19,
   "metadata": {},
   "outputs": [
    {
     "name": "stdout",
     "output_type": "stream",
     "text": [
      "Entrer x:  54\n",
      "Entrer y: 1\n",
      "Tchaw...!!!!\n"
     ]
    }
   ],
   "source": [
    "#Donnez deux valeurs entieres \n",
    "x = int(input(\"Entrer x:  \")) \n",
    "y = int(input(\"Entrer y: \"))\n",
    "# ecriture classique : \n",
    "if x < y: \n",
    "    plus_petit = x\n",
    "    print(\"La plus petite des deux est \", plus_petit)\n",
    "else: \n",
    "    plus_petit = y\n",
    "    print(\"Tchaw...!!!!\")"
   ]
  },
  {
   "cell_type": "markdown",
   "metadata": {},
   "source": [
    "# 5. On se ﬁxe une pression seuil et un volume seuil !!!!"
   ]
  },
  {
   "cell_type": "code",
   "execution_count": 10,
   "metadata": {},
   "outputs": [
    {
     "name": "stdout",
     "output_type": "stream",
     "text": [
      "Entrer la valeur de la pression du courant: 1.3\n",
      "Entrer la valeur de le volume du courant: 10.5\n",
      "Diminuer le volume de l'enceinte\n"
     ]
    }
   ],
   "source": [
    "#fixation d'une pression de seuil et du volume de ce seuil\n",
    "Pseuil = 2.3\n",
    "Vseuil = 7.41\n",
    "Pcourant = float(input(\"Entrer la valeur de la pression du courant: \"))\n",
    "Vcourant = float(input(\"Entrer la valeur de le volume du courant: \"))\n",
    "#si pour volume courant superieu au volume seuil et la pression courant suprieur au pression seuil\n",
    "if (Vcourant>Vseuil) and (Pcourant>Pseuil):\n",
    "    print(\"Arret immediat...!!!\")\n",
    "#si pour pression courant superieur au pression seuil\n",
    "elif Pcourant>Pseuil:\n",
    "    print(\"Augmenter le volume de l'enceinte\")\n",
    "#si pour le volume courant superieur au volume seuil\n",
    "elif Vcourant>Vseuil:\n",
    "    print(\"Diminuer le volume de l'enceinte\")\n",
    "#si pour que la pression du courant et le volume du courant soit inferieur a la pression seuil et au volume seuil\n",
    "else:\n",
    "    print(\"Tout va bien\")"
   ]
  },
  {
   "cell_type": "markdown",
   "metadata": {},
   "source": [
    "# 6. Initialisez deux entiers:"
   ]
  },
  {
   "cell_type": "code",
   "execution_count": 1,
   "metadata": {},
   "outputs": [
    {
     "name": "stdout",
     "output_type": "stream",
     "text": [
      "Affichez la valeur de A tant qu'elle reste inferieure a B 0\n",
      "Affichez la valeur de A tant qu'elle reste inferieure a B 1\n",
      "Affichez la valeur de A tant qu'elle reste inferieure a B 2\n",
      "Affichez la valeur de A tant qu'elle reste inferieure a B 3\n",
      "Affichez la valeur de A tant qu'elle reste inferieure a B 4\n",
      "Affichez la valeur de A tant qu'elle reste inferieure a B 5\n",
      "Affichez la valeur de A tant qu'elle reste inferieure a B 6\n",
      "Affichez la valeur de A tant qu'elle reste inferieure a B 7\n",
      "Affichez la valeur de A tant qu'elle reste inferieure a B 8\n",
      "Affichez la valeur de A tant qu'elle reste inferieure a B 9\n",
      "Afficher la valeur de B: 9\n",
      "B n'est pas nul\n",
      "Afficher la valeur de B: 7\n",
      "B n'est pas nul\n",
      "Afficher la valeur de B: 5\n",
      "B n'est pas nul\n",
      "Afficher la valeur de B: 3\n",
      "B n'est pas nul\n",
      "Afficher la valeur de B: 1\n",
      "B n'est pas nul\n"
     ]
    }
   ],
   "source": [
    "#deux entiers\n",
    "a = 0\n",
    "b =10\n",
    "#tant que a reste inferieur a b\n",
    "while a < b:\n",
    "    print(\"Affichez la valeur de A tant qu'elle reste inferieure a B\",a)\n",
    "    a = a+1\n",
    "#tant que b n'est pas nul \n",
    "while b:\n",
    "    b = b-1\n",
    "#meme s'il est diferent de 0 et modulo de 2 \n",
    "    if b%2 !=0:\n",
    "        print(\"Afficher la valeur de B:\",b)\n",
    "        print(\"B n'est pas nul\")"
   ]
  },
  {
   "cell_type": "markdown",
   "metadata": {},
   "source": [
    " # 7. Écrire une saisie ﬁltrée d’un entier dans l’intervalle 1 à 10, bornes comprises. Afﬁchez la saisie.\n"
   ]
  },
  {
   "cell_type": "code",
   "execution_count": 4,
   "metadata": {},
   "outputs": [
    {
     "name": "stdout",
     "output_type": "stream",
     "text": [
      "Entrez un entier [1 .. 10] : 11\n",
      "Entrez un entier [1 .. 10], S.V.P. : 10\n",
      "\n",
      "Valeur saisie : 10\n"
     ]
    }
   ],
   "source": [
    "# Écrire une saisie ﬁltrée d’un entier dans l’intervalle 1 à 10\n",
    "f = int(input(\"Entrez un entier [1 .. 10] : \")) \n",
    "while not(1 <= f <= 10):\n",
    "    f = int(input(\"Entrez un entier [1 .. 10], S.V.P. : \"))\n",
    "print(\"\\nValeur saisie :\", f)"
   ]
  },
  {
   "cell_type": "markdown",
   "metadata": {},
   "source": [
    "# 8.  Afﬁchez chaque caractère d’une chaîne."
   ]
  },
  {
   "cell_type": "code",
   "execution_count": 16,
   "metadata": {},
   "outputs": [
    {
     "name": "stdout",
     "output_type": "stream",
     "text": [
      "------- Une chaine de caractere --------\n",
      "c\n",
      "\n",
      "i\n",
      "\n",
      "a\n",
      "\n",
      "o\n",
      "\n",
      "-------------- Une liste --------------- \n",
      "\n",
      "7 m 2.718 "
     ]
    }
   ],
   "source": [
    "#Affichez une chaine de caractere\n",
    "print(\" Une chaine de caractere \".center(40, '-'))\n",
    "for lettre in \"ciao\":\n",
    "    print(lettre) \n",
    "    print()\n",
    "#Affichez une liste\n",
    "print(\" Une liste \".center(40, '-'), \"\\n\")\n",
    "for i in [7, 'm', 2.718]: print(i, end=\" \")"
   ]
  },
  {
   "cell_type": "markdown",
   "metadata": {},
   "source": [
    "# 9.  Afﬁchez les entiers de 0 à 15 non compris, de trois en trois, en utilisant une boucle for et l’instruction range().\n"
   ]
  },
  {
   "cell_type": "code",
   "execution_count": 29,
   "metadata": {},
   "outputs": [
    {
     "name": "stdout",
     "output_type": "stream",
     "text": [
      "0\n",
      "3\n",
      "6\n",
      "9\n",
      "12\n"
     ]
    }
   ],
   "source": [
    "#Afﬁchez les entiers de 0 à 15 non compris\n",
    "for s in range(0,15,3):\n",
    "      print(s)"
   ]
  },
  {
   "cell_type": "markdown",
   "metadata": {},
   "source": [
    "# 10.  Utilisez l’instruction break pour interrompre une boucle for d’afﬁchage des entiers de1à10compris,lorsque la variable de boucle vaut 5."
   ]
  },
  {
   "cell_type": "code",
   "execution_count": 34,
   "metadata": {},
   "outputs": [
    {
     "name": "stdout",
     "output_type": "stream",
     "text": [
      "1\n",
      "1\n",
      "2\n",
      "2\n",
      "3\n",
      "3\n",
      "4\n",
      "4\n",
      "5\n",
      "\n"
     ]
    }
   ],
   "source": [
    "#Utilisez l’instruction break pour interrompre une boucle\n",
    "for p in range(1,11):\n",
    "    print(p)\n",
    "    if p==5:\n",
    "        break\n",
    "    print(p)\n",
    "print()"
   ]
  },
  {
   "cell_type": "markdown",
   "metadata": {},
   "source": [
    "# 11.  Utilisez l’instruction continue pour modiﬁer une boucle for d’afﬁchage de tous entiers de 1 à 10 compris, sauf lorsque la variable de boucle vaut 5."
   ]
  },
  {
   "cell_type": "code",
   "execution_count": 35,
   "metadata": {},
   "outputs": [
    {
     "name": "stdout",
     "output_type": "stream",
     "text": [
      "1\n",
      "2\n",
      "3\n",
      "4\n",
      "5\n",
      "6\n",
      "7\n",
      "8\n",
      "9\n",
      "10\n",
      "\n"
     ]
    }
   ],
   "source": [
    "#Utilisez l’instruction continue pour modiﬁer une boucle\n",
    "for g in range(1,11):\n",
    "    print(g)\n",
    "    if g == 5:\n",
    "        continue\n",
    "        print(g)\n",
    "print()"
   ]
  },
  {
   "cell_type": "markdown",
   "metadata": {},
   "source": [
    "# 12.  Utilisez une exception pour calculer, dans une boucle évoluant de -3 à 3 compris, la valeur de sin(x)/x.\n"
   ]
  },
  {
   "cell_type": "code",
   "execution_count": 5,
   "metadata": {},
   "outputs": [
    {
     "name": "stdout",
     "output_type": "stream",
     "text": [
      "1.000 1.000 1.000 1.000 1.000 1.000 1.000 \n"
     ]
    }
   ],
   "source": [
    "#Utilisez une exception pour calculer\n",
    "for x in range(-3, 4): \n",
    "    try: \n",
    "        print(\"{:.3f}\".format(sin(x)/x), end=\" \") \n",
    "    except: \n",
    "         print(\"{:.3f}\".format(float(1)), end=\" \") \n",
    "print()"
   ]
  },
  {
   "cell_type": "markdown",
   "metadata": {},
   "source": [
    "# 13. Initialisez une liste avec 5 entiers de votre choix puis saisissez un entier. Dans une boucle for, parcourez la liste. Si l’entier saisie appartient à la liste."
   ]
  },
  {
   "cell_type": "code",
   "execution_count": 28,
   "metadata": {},
   "outputs": [
    {
     "ename": "ModuleNotFoundError",
     "evalue": "No module named 'easygui'",
     "output_type": "error",
     "traceback": [
      "\u001b[1;31m---------------------------------------------------------------------------\u001b[0m",
      "\u001b[1;31mModuleNotFoundError\u001b[0m                       Traceback (most recent call last)",
      "\u001b[1;32m<ipython-input-28-225a45a6f53b>\u001b[0m in \u001b[0;36m<module>\u001b[1;34m\u001b[0m\n\u001b[1;32m----> 1\u001b[1;33m \u001b[1;32mfrom\u001b[0m \u001b[0measygui\u001b[0m \u001b[1;32mimport\u001b[0m \u001b[0mintegerbox\u001b[0m\u001b[1;33m,\u001b[0m \u001b[0mmsgbox\u001b[0m\u001b[1;33m\u001b[0m\u001b[1;33m\u001b[0m\u001b[0m\n\u001b[0m",
      "\u001b[1;31mModuleNotFoundError\u001b[0m: No module named 'easygui'"
     ]
    }
   ],
   "source": [
    "from easygui import integerbox, msgbox"
   ]
  },
  {
   "cell_type": "code",
   "execution_count": null,
   "metadata": {},
   "outputs": [],
   "source": [
    "v = [0,8,9,4,7]\n",
    "k = integerbox(\"Entrez un entier :\",\"\")\n",
    "for r in v:\n",
    "    if r == k:\n",
    "        sauve = r\n",
    "        break\n",
    "else:\n",
    "        msgbox(\"L'element cherche n'est pas dans la sequence.\")\n",
    "        sauve = None\n",
    "        msgbox(\"Boucle for-else. On obtient : sauve = {}\".format(sauve))   \n",
    "## Boucle while-else\n",
    "y = integerbox(\"Entrez un entier positif :\", \"\", 5, 1)\n",
    "x = y // 2 \n",
    "while x > 1: \n",
    "    if y % x == 0: msgbox(\"{:d} a pour facteur {:d}\".format(y, x)) \n",
    "    break \n",
    "    x = x - 1 \n",
    "else: \n",
    "    msgbox(\"{:d} est premier\".format(y))\n"
   ]
  },
  {
   "cell_type": "markdown",
   "metadata": {},
   "source": [
    "# COURS 14).  Écrire une procédure table avec quatre paramètres: base, debut, fin et inc. "
   ]
  },
  {
   "cell_type": "code",
   "execution_count": 35,
   "metadata": {},
   "outputs": [],
   "source": [
    "def table(base, debut, fin, inc): \n",
    "#\"\"\"Affiche la table des <base>, de <debut> a <fin>, de <inc> en <inc>.\"\"\" \n",
    "    c = debut \n",
    "    while c <= fin: \n",
    "        print(c, 'x', base, '=', c*base) \n",
    "        c = c + inc"
   ]
  },
  {
   "cell_type": "code",
   "execution_count": 36,
   "metadata": {},
   "outputs": [
    {
     "name": "stdout",
     "output_type": "stream",
     "text": [
      "5 x 7 = 35\n"
     ]
    }
   ],
   "source": [
    "table(7,5,8,4)"
   ]
  },
  {
   "cell_type": "markdown",
   "metadata": {},
   "source": [
    "# 15 Écrire une fonction cube qui retourne le cube de son argument."
   ]
  },
  {
   "cell_type": "code",
   "execution_count": 37,
   "metadata": {},
   "outputs": [],
   "source": [
    "from math import pi"
   ]
  },
  {
   "cell_type": "code",
   "execution_count": 39,
   "metadata": {},
   "outputs": [
    {
     "name": "stdout",
     "output_type": "stream",
     "text": [
      "Rayon : 9\n",
      "\n",
      "Volume de la sphere de rayon 9.0 : 3053.628\n"
     ]
    }
   ],
   "source": [
    "# fonctions \n",
    "def cube(x): \n",
    "    #\"\"\"Calcule le cube de l'argument.\"\"\" \n",
    "    return x**3\n",
    "def volumeSphere(r): \n",
    "    #\"\"\"Calcule le volume d'une sphere de rayon <r>.\"\"\"\n",
    "    return 4 * pi * cube(r) / 3\n",
    "# programme principal ----------------------------------------------\n",
    "rayon = float(input(\"Rayon : \")) \n",
    "print(\"\\nVolume de la sphere de rayon {:.1f} : {:.3f}\" .format(rayon, volumeSphere(rayon)))"
   ]
  },
  {
   "cell_type": "markdown",
   "metadata": {},
   "source": [
    "# 16. "
   ]
  },
  {
   "cell_type": "code",
   "execution_count": 42,
   "metadata": {},
   "outputs": [
    {
     "name": "stdout",
     "output_type": "stream",
     "text": [
      "----------------------------------------\n",
      "23\n",
      "\n",
      " ----------------------------------------\n",
      "-10\n",
      "\n",
      " ----------------------------------------\n",
      "23\n",
      "\n",
      " ----------------------------------------\n",
      "-10.0\n"
     ]
    }
   ],
   "source": [
    "# fonction \n",
    "def somme(*args): \n",
    "    resultat = 0 \n",
    "    for nombre in args: \n",
    "        resultat += nombre \n",
    "        return resultat\n",
    "# programme principal ----------------------------------------------\n",
    "print(\"-\"*40) \n",
    "print(somme(23)) \n",
    "print(\"\\n\", \"-\"*40) \n",
    "print(somme(-10, 13)) \n",
    "print(\"\\n\", \"-\"*40) \n",
    "print(somme(23, 42, 13)) \n",
    "print(\"\\n\", \"-\"*40) \n",
    "print(somme(-10.0, 12))"
   ]
  },
  {
   "cell_type": "markdown",
   "metadata": {},
   "source": [
    "# 15.  Écrire une fonction somme avec un argument."
   ]
  },
  {
   "cell_type": "code",
   "execution_count": 49,
   "metadata": {},
   "outputs": [
    {
     "name": "stdout",
     "output_type": "stream",
     "text": [
      "12\n"
     ]
    }
   ],
   "source": [
    "def somme(a, b, c): \n",
    "    return a+b+c\n",
    "# programme principal ----------------------------------------------\n",
    "valeur = (2, 4, 6) \n",
    "print(somme(*valeur))"
   ]
  },
  {
   "cell_type": "markdown",
   "metadata": {},
   "source": [
    "# 17.  Écrire une autre fonction somme avec trois arguments,  et qui renvoie leur somme."
   ]
  },
  {
   "cell_type": "code",
   "execution_count": 65,
   "metadata": {},
   "outputs": [
    {
     "name": "stdout",
     "output_type": "stream",
     "text": [
      "19\n"
     ]
    }
   ],
   "source": [
    "def summ(s,x,y):\n",
    "    return s+x+y \n",
    "l = (4,7,8)\n",
    "print(summ(*l))"
   ]
  },
  {
   "cell_type": "markdown",
   "metadata": {},
   "source": [
    "# 18.  Écrire une fonction un Dictionnaire avec un argument"
   ]
  },
  {
   "cell_type": "code",
   "execution_count": 72,
   "metadata": {},
   "outputs": [
    {
     "name": "stdout",
     "output_type": "stream",
     "text": [
      "------------- appel avec des parametres nommes -------------\n",
      "{'a': 23, 'b': 42}\n",
      "---------- appel avec un dictionnaire decompresse ----------\n",
      "{'d': 85, 'e': 14, 'f': 9}\n"
     ]
    }
   ],
   "source": [
    "# Écrire une fonction un Dictionnaire avec un argument\n",
    "def unDictionnaire(**kargs): \n",
    "    return kargs\n",
    "# programme principal ----------------------------------------------\n",
    "print(\" appel avec des parametres nommes \".center(60, '-')) \n",
    "print(unDictionnaire(a=23, b=42))\n",
    "print(\" appel avec un dictionnaire decompresse \".center(60, '-')) \n",
    "mots = {'d':85, 'e':14, 'f':9} \n",
    "print(unDictionnaire(**mots))"
   ]
  },
  {
   "cell_type": "markdown",
   "metadata": {},
   "source": [
    "# 19. . Déﬁnir la liste."
   ]
  },
  {
   "cell_type": "code",
   "execution_count": 12,
   "metadata": {},
   "outputs": [
    {
     "data": {
      "text/plain": [
       "'Affichez la liste: '"
      ]
     },
     "metadata": {},
     "output_type": "display_data"
    },
    {
     "data": {
      "text/plain": [
       "[17, 38, 10, 25, 72]"
      ]
     },
     "metadata": {},
     "output_type": "display_data"
    }
   ],
   "source": [
    "#creer la liste et afficher le\n",
    "liste = [17, 38, 10, 25, 72]\n",
    "display(\"Affichez la liste: \",liste)"
   ]
  },
  {
   "cell_type": "code",
   "execution_count": 10,
   "metadata": {},
   "outputs": [
    {
     "data": {
      "text/plain": [
       "\"Ajout l'ement 12 dans la liste\""
      ]
     },
     "metadata": {},
     "output_type": "display_data"
    },
    {
     "data": {
      "text/plain": [
       "[17, 38, 10, 25, 72, 12, 12]"
      ]
     },
     "metadata": {},
     "output_type": "display_data"
    }
   ],
   "source": [
    "#ajouter l'element 12 dans la liste et affichez le\n",
    "liste.append(12)\n",
    "display(\"Ajout l'ement 12 dans la liste\",liste)"
   ]
  },
  {
   "cell_type": "code",
   "execution_count": 13,
   "metadata": {},
   "outputs": [
    {
     "data": {
      "text/plain": [
       "'Renversement de la liste et son affichage'"
      ]
     },
     "metadata": {},
     "output_type": "display_data"
    },
    {
     "data": {
      "text/plain": [
       "[72, 25, 10, 38, 17]"
      ]
     },
     "metadata": {},
     "output_type": "display_data"
    }
   ],
   "source": [
    "#renverser la liste et affichez le\n",
    "liste.reverse()\n",
    "display(\"Renversement de la liste et son affichage\",liste)"
   ]
  },
  {
   "cell_type": "code",
   "execution_count": 19,
   "metadata": {},
   "outputs": [
    {
     "name": "stdout",
     "output_type": "stream",
     "text": [
      "4\n"
     ]
    }
   ],
   "source": [
    "#afficher l'indice de l'element 17\n",
    "print(liste.index(17))"
   ]
  },
  {
   "cell_type": "code",
   "execution_count": 1,
   "metadata": {},
   "outputs": [
    {
     "data": {
      "text/plain": [
       "'Affichez la liste: '"
      ]
     },
     "metadata": {},
     "output_type": "display_data"
    },
    {
     "data": {
      "text/plain": [
       "[17, 10, 25, 72]"
      ]
     },
     "metadata": {},
     "output_type": "display_data"
    }
   ],
   "source": [
    "#enlevez l’élément 38 et afﬁchez la liste\n",
    "liste = [17, 38, 10, 25, 72]\n",
    "liste.remove(38)\n",
    "display(\"Affichez la liste: \",liste)"
   ]
  },
  {
   "cell_type": "code",
   "execution_count": 3,
   "metadata": {},
   "outputs": [
    {
     "data": {
      "text/plain": [
       "'Affichez la sous-liste du 2e au 3e élément: '"
      ]
     },
     "metadata": {},
     "output_type": "display_data"
    },
    {
     "data": {
      "text/plain": [
       "[10, 25]"
      ]
     },
     "metadata": {},
     "output_type": "display_data"
    }
   ],
   "source": [
    "# afﬁchez la sous-liste du 2e au 3e élément\n",
    "display(\"Affichez la sous-liste du 2e au 3e élément: \",liste[1:3])"
   ]
  },
  {
   "cell_type": "code",
   "execution_count": 9,
   "metadata": {},
   "outputs": [
    {
     "data": {
      "text/plain": [
       "'Afﬁchez la sous-liste du début au 2e élément: '"
      ]
     },
     "metadata": {},
     "output_type": "display_data"
    },
    {
     "data": {
      "text/plain": [
       "[17, 10]"
      ]
     },
     "metadata": {},
     "output_type": "display_data"
    }
   ],
   "source": [
    "#afﬁchez la sous-liste du début au 2e élément\n",
    "display('Afﬁchez la sous-liste du début au 2e élément: ',liste[:2])"
   ]
  },
  {
   "cell_type": "code",
   "execution_count": 6,
   "metadata": {},
   "outputs": [
    {
     "data": {
      "text/plain": [
       "' Afﬁchez la sous-liste du 3e élément à la ﬁn de la liste: '"
      ]
     },
     "metadata": {},
     "output_type": "display_data"
    },
    {
     "data": {
      "text/plain": [
       "[25, 72]"
      ]
     },
     "metadata": {},
     "output_type": "display_data"
    }
   ],
   "source": [
    "# afﬁchez la sous-liste du 3e élément à la ﬁn de la liste\n",
    "display(' Afﬁchez la sous-liste du 3e élément à la ﬁn de la liste: ',liste[2:])"
   ]
  },
  {
   "cell_type": "code",
   "execution_count": 10,
   "metadata": {},
   "outputs": [
    {
     "data": {
      "text/plain": [
       "'Afﬁchez la sous-liste complète de la liste: '"
      ]
     },
     "metadata": {},
     "output_type": "display_data"
    },
    {
     "data": {
      "text/plain": [
       "[17, 10, 25, 72]"
      ]
     },
     "metadata": {},
     "output_type": "display_data"
    }
   ],
   "source": [
    "#afﬁchez la sous-liste complète de la liste\n",
    "display('Afﬁchez la sous-liste complète de la liste: ',liste[:])"
   ]
  },
  {
   "cell_type": "code",
   "execution_count": 12,
   "metadata": {},
   "outputs": [
    {
     "data": {
      "text/plain": [
       "'Affichez le dernier élément en utilisant un indiçage négatif:'"
      ]
     },
     "metadata": {},
     "output_type": "display_data"
    },
    {
     "data": {
      "text/plain": [
       "72"
      ]
     },
     "metadata": {},
     "output_type": "display_data"
    }
   ],
   "source": [
    "#afﬁchez le dernier élément en utilisant un indiçage négatif\n",
    "display('Affichez le dernier élément en utilisant un indiçage négatif:',liste[-1])"
   ]
  },
  {
   "cell_type": "markdown",
   "metadata": {},
   "source": [
    "# 20. Initialisez truc commeune liste vide,et machin comme une liste de cinq ﬂottants nuls. "
   ]
  },
  {
   "cell_type": "code",
   "execution_count": 24,
   "metadata": {},
   "outputs": [
    {
     "name": "stdout",
     "output_type": "stream",
     "text": [
      "range(4):  range(0, 4)\n",
      "range(4, 8):  range(4, 8)\n",
      "range(2, 9, 2):  range(2, 9, 2)\n"
     ]
    }
   ],
   "source": [
    "#truc liste nul et machin liste de cinq flottants nul\n",
    "truc=[]\n",
    "machin=(0.0)*5\n",
    "# les entiers de 0 à 3\n",
    "print(\"range(4): \",range(4))\n",
    "# les entiers de 4 à 7\n",
    "print(\"range(4, 8): \", range(4, 8))\n",
    "#les entiers de 2 à 8 par pas de 2.\n",
    "print(\"range(2, 9, 2): \", range(2, 9, 2))\n"
   ]
  },
  {
   "cell_type": "code",
   "execution_count": 27,
   "metadata": {},
   "outputs": [
    {
     "name": "stdout",
     "output_type": "stream",
     "text": [
      "chose:  range(0, 6)\n"
     ]
    }
   ],
   "source": [
    "#Déﬁnir chose comme une liste \n",
    "chose = range(6) \n",
    "print(\"chose: \", chose)\n"
   ]
  },
  {
   "cell_type": "code",
   "execution_count": 28,
   "metadata": {},
   "outputs": [
    {
     "name": "stdout",
     "output_type": "stream",
     "text": [
      "Test d'appartenance de l'element 3 : True\n",
      "Test d'appartenance de l'element 6 : False\n"
     ]
    }
   ],
   "source": [
    "# testez l’appartenance des éléments3et6à chose.\n",
    "print(\"Test d'appartenance de l'element 3 :\", 3 in chose)\n",
    "print(\"Test d'appartenance de l'element 6 :\", 6 in chose)\n"
   ]
  },
  {
   "cell_type": "markdown",
   "metadata": {},
   "source": [
    "# 21. Utilisez une liste en compréhension pour ajouter 3 à chaque élément d’une liste d’entiers de 0 à 5.\n"
   ]
  },
  {
   "cell_type": "code",
   "execution_count": 31,
   "metadata": {},
   "outputs": [
    {
     "name": "stdout",
     "output_type": "stream",
     "text": [
      " Boucle pour: \n",
      "[3, 4, 5, 6, 7, 8]\n",
      "\"Entree\"7\n",
      " forme 1 \n",
      "[3, 4, 5, 6, 7, 8]\n"
     ]
    }
   ],
   "source": [
    "result1 = [] \n",
    "for i in range(6): \n",
    "    result1.append(i+3)\n",
    "print(\" Boucle pour: \") \n",
    "print(result1)\n",
    "rien = input('\"Entree\"')\n",
    "result2 = [i+3 for i in range(6)]\n",
    "print(\" forme 1 \") \n",
    "print(result2)\n"
   ]
  },
  {
   "cell_type": "markdown",
   "metadata": {},
   "source": [
    "# 22.  Utilisez une liste en compréhension pour ajouter "
   ]
  },
  {
   "cell_type": "code",
   "execution_count": null,
   "metadata": {},
   "outputs": [
    {
     "name": "stdout",
     "output_type": "stream",
     "text": [
      "Affichez le resultat:  []\n",
      "\"Entree\"8\n",
      "Affichez le resultat:  []\n",
      "\"Entree\"4\n",
      "Affichez le resultat:  [5]\n",
      "\"Entree\"1\n",
      "Affichez le resultat:  [5, 6]\n"
     ]
    }
   ],
   "source": [
    "result2 = []\n",
    "for r in range(6):\n",
    "    if r>= 2:\n",
    "         result2.append(r+3)\n",
    "    print(\"Affichez le resultat: \",result2)\n",
    "    k = input('\"Entree\"')\n",
    "result4 = [i+3 for i in range(6) if i >= 2]\n",
    "print(\" forme 2 \") \n",
    "print(result2)"
   ]
  },
  {
   "cell_type": "markdown",
   "metadata": {},
   "source": [
    "# 23.  Utilisez une liste en compréhension pour obtenir la liste"
   ]
  },
  {
   "cell_type": "code",
   "execution_count": null,
   "metadata": {},
   "outputs": [],
   "source": [
    "result3 = [] \n",
    "for i in \"abc\": \n",
    "    for j in \"de\": \n",
    "        result3.append(i+j) \n",
    "        print(\" boucle for \") \n",
    "        print(result3, '\\n')\n",
    "rien = input('\"Entree\"')\n",
    "result3 = [i+j for i in \"abc\" for j in \"de\"]\n",
    "print(\" forme 3 \") \n",
    "print(result3)"
   ]
  },
  {
   "cell_type": "markdown",
   "metadata": {},
   "source": [
    "# 24. Utilisez une liste en compréhension pour calculer la somme d’une liste "
   ]
  },
  {
   "cell_type": "code",
   "execution_count": null,
   "metadata": {},
   "outputs": [],
   "source": [
    "#Utilisez une liste en compréhension pour calculer la somme d’une liste \n",
    "s1 = 0 for i in range(10): \n",
    "    s1 = s1 + i \n",
    "    print(\" somme (boucle for) \") \n",
    "print(\"somme =\", s1,)\n",
    "rien = input('\"Entree\"')\n",
    "s2 = sum([i for i in range(10)])\n",
    "print(\" somme (liste en intension) \") \n",
    "print(\"somme =\", s2)"
   ]
  },
  {
   "cell_type": "markdown",
   "metadata": {},
   "source": [
    "# 25.  Déﬁnir deux ensembles (sets) "
   ]
  },
  {
   "cell_type": "code",
   "execution_count": null,
   "metadata": {},
   "outputs": [],
   "source": [
    "X =set(a,b,c,d)\n",
    "Y =set(s,b,d)\n",
    "print(\" ensembles de depart \") \n",
    "print(\"X =\", X) \n",
    "print(\"Y =\", Y)\n",
    "rien = input('\"Entree\"')\n",
    "print(\" appartenance \")"
   ]
  },
  {
   "cell_type": "code",
   "execution_count": null,
   "metadata": {},
   "outputs": [],
   "source": [
    "print(\"'c' appartient a X ?\", 'c' in X) "
   ]
  },
  {
   "cell_type": "code",
   "execution_count": null,
   "metadata": {},
   "outputs": [],
   "source": [
    "print(\"'a' appartient a Y ?\", 'a' in Y)"
   ]
  },
  {
   "cell_type": "code",
   "execution_count": null,
   "metadata": {},
   "outputs": [],
   "source": [
    "rien = input('\"Entree\"')\n",
    "print(\" difference \")"
   ]
  },
  {
   "cell_type": "code",
   "execution_count": null,
   "metadata": {},
   "outputs": [],
   "source": [
    "print(\"X - Y :\", X - Y)"
   ]
  },
  {
   "cell_type": "code",
   "execution_count": null,
   "metadata": {},
   "outputs": [],
   "source": [
    "rien = input('\"Entree\"')\n",
    "print(\" union \") "
   ]
  },
  {
   "cell_type": "code",
   "execution_count": null,
   "metadata": {},
   "outputs": [],
   "source": [
    "print(\"X | Y :\", X | Y)"
   ]
  },
  {
   "cell_type": "code",
   "execution_count": null,
   "metadata": {},
   "outputs": [],
   "source": [
    "rien = input('\"Entree\"')\n",
    "print(\" intersection \")"
   ]
  },
  {
   "cell_type": "code",
   "execution_count": null,
   "metadata": {},
   "outputs": [],
   "source": [
    "print(\"X & Y :\", X & Y)"
   ]
  },
  {
   "cell_type": "code",
   "execution_count": null,
   "metadata": {},
   "outputs": [],
   "source": []
  }
 ],
 "metadata": {
  "kernelspec": {
   "display_name": "Python 3",
   "language": "python",
   "name": "python3"
  },
  "language_info": {
   "codemirror_mode": {
    "name": "ipython",
    "version": 3
   },
   "file_extension": ".py",
   "mimetype": "text/x-python",
   "name": "python",
   "nbconvert_exporter": "python",
   "pygments_lexer": "ipython3",
   "version": "3.7.4"
  }
 },
 "nbformat": 4,
 "nbformat_minor": 2
}
